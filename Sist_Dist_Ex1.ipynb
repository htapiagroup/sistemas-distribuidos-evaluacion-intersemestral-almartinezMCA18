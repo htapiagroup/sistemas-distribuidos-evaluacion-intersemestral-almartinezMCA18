{
  "nbformat": 4,
  "nbformat_minor": 0,
  "metadata": {
    "colab": {
      "name": "Sist_Dist_Ex1.ipynb",
      "version": "0.3.2",
      "provenance": [],
      "collapsed_sections": [],
      "include_colab_link": true
    },
    "kernelspec": {
      "name": "python3",
      "display_name": "Python 3"
    }
  },
  "cells": [
    {
      "cell_type": "markdown",
      "metadata": {
        "id": "view-in-github",
        "colab_type": "text"
      },
      "source": [
        "<a href=\"https://colab.research.google.com/github/htapiagroup/sistemas-distribuidos-evaluacion-intersemestral-almartinezMCA18/blob/master/Sist_Dist_Ex1.ipynb\" target=\"_parent\"><img src=\"https://colab.research.google.com/assets/colab-badge.svg\" alt=\"Open In Colab\"/></a>"
      ]
    },
    {
      "cell_type": "markdown",
      "metadata": {
        "id": "Sh-ccJwn3sv_",
        "colab_type": "text"
      },
      "source": [
        "#Nombre: Alexis Martinez Arteaga\n",
        "## En colaboracion:\n",
        "###Luis Daniel Hernandez Jimenez, \n",
        "###Samuel Báez Herrera, \n",
        "###Jose David Cobos Trujillo, \n",
        "###Lorrain Eugenio Giddings Soto, \n",
        "###Yoselin Araceli Campos Sacramento, \n",
        "###Ana Margarita Reyes Hernandez\n",
        "###Joaquin Aguilar Hernandez\n",
        "###Georgina Valenzuela Carrasco\n",
        "###Horacio Tapia McClung"
      ]
    },
    {
      "cell_type": "code",
      "metadata": {
        "id": "eOU0VF0j2_aS",
        "colab_type": "code",
        "colab": {}
      },
      "source": [
        "import pandas as pd, time\n",
        "import psutil, os"
      ],
      "execution_count": 0,
      "outputs": []
    },
    {
      "cell_type": "markdown",
      "metadata": {
        "id": "-q2_v26GzUQE",
        "colab_type": "text"
      },
      "source": [
        "Descarga el archivo comprimido"
      ]
    },
    {
      "cell_type": "markdown",
      "metadata": {
        "id": "Uk7KPcz4CzRF",
        "colab_type": "text"
      },
      "source": [
        "##Punto 1\n",
        "###Adquiriedo datos comprimidos."
      ]
    },
    {
      "cell_type": "code",
      "metadata": {
        "id": "2SYx5yGE7P4m",
        "colab_type": "code",
        "colab": {}
      },
      "source": [
        "!wget https://archive.org/download/nycTaxiTripData2013/trip_data.7z"
      ],
      "execution_count": 0,
      "outputs": []
    },
    {
      "cell_type": "markdown",
      "metadata": {
        "id": "EN8RKtqIzZ1V",
        "colab_type": "text"
      },
      "source": [
        "##Punto 2\n",
        "###Descomprimir uno de los archivos dentro del data frame"
      ]
    },
    {
      "cell_type": "code",
      "metadata": {
        "id": "Q6rbbOy3_dcp",
        "colab_type": "code",
        "colab": {}
      },
      "source": [
        "!7z e /content/trip_data.7z -o/content/ trip_data_1.csv"
      ],
      "execution_count": 0,
      "outputs": []
    },
    {
      "cell_type": "markdown",
      "metadata": {
        "id": "m_bQ85G20BwJ",
        "colab_type": "text"
      },
      "source": [
        "##Punto 3\n",
        "### Cuantas columnas contiene cada archivo de datos descomprimido = 13\n",
        "### Cuantos renglones tiene cada archivo = 14776529"
      ]
    },
    {
      "cell_type": "code",
      "metadata": {
        "id": "sK0POxhNvdFM",
        "colab_type": "code",
        "outputId": "8d5bab01-e8f8-47f0-ffa4-7b3aeee0e602",
        "colab": {
          "base_uri": "https://localhost:8080/",
          "height": 34
        }
      },
      "source": [
        "df.shape"
      ],
      "execution_count": 0,
      "outputs": [
        {
          "output_type": "execute_result",
          "data": {
            "text/plain": [
              "(14776615, 14)"
            ]
          },
          "metadata": {
            "tags": []
          },
          "execution_count": 25
        }
      ]
    },
    {
      "cell_type": "markdown",
      "metadata": {
        "id": "BhhIyT9v0G83",
        "colab_type": "text"
      },
      "source": [
        "##Punto 4\n",
        "###indicar claramente cuantos son los renglones con errores y a que archivos corresponden = 7,326,379 para el archivo trip_data_1.csv \n",
        "###crear un nuevo conjunto de datos con los errores eliminados"
      ]
    },
    {
      "cell_type": "code",
      "metadata": {
        "id": "RRQU2Ewrwax4",
        "colab_type": "code",
        "outputId": "779a6538-dfdb-4188-865b-5084c9b03935",
        "colab": {
          "base_uri": "https://localhost:8080/",
          "height": 276
        }
      },
      "source": [
        "df.isna().sum()"
      ],
      "execution_count": 0,
      "outputs": [
        {
          "output_type": "execute_result",
          "data": {
            "text/plain": [
              "medallion                   0\n",
              "hack_license                0\n",
              "vendor_id                   0\n",
              "rate_code                   0\n",
              "store_and_fwd_flag    7326207\n",
              "pickup_datetime             0\n",
              "dropoff_datetime            0\n",
              "passenger_count             0\n",
              "trip_time_in_secs           0\n",
              "trip_distance               0\n",
              "pickup_longitude            0\n",
              "pickup_latitude             0\n",
              "dropoff_longitude          86\n",
              "dropoff_latitude           86\n",
              "dtype: int64"
            ]
          },
          "metadata": {
            "tags": []
          },
          "execution_count": 26
        }
      ]
    },
    {
      "cell_type": "markdown",
      "metadata": {
        "id": "tii9uc4e0LpN",
        "colab_type": "text"
      },
      "source": [
        "Borra valores nulos"
      ]
    },
    {
      "cell_type": "code",
      "metadata": {
        "id": "y26qwFgRxlUZ",
        "colab_type": "code",
        "colab": {}
      },
      "source": [
        "df = df.dropna(how='all', subset=['dropoff_longitude', 'dropoff_latitude'])"
      ],
      "execution_count": 0,
      "outputs": []
    },
    {
      "cell_type": "code",
      "metadata": {
        "id": "FGXjOnhiyKKd",
        "colab_type": "code",
        "colab": {}
      },
      "source": [
        "df.isna().sum()"
      ],
      "execution_count": 0,
      "outputs": []
    },
    {
      "cell_type": "code",
      "metadata": {
        "id": "k5Lsv-kVyPBo",
        "colab_type": "code",
        "outputId": "8c7f720d-8722-4c0f-8465-8a19e2dd703c",
        "colab": {
          "base_uri": "https://localhost:8080/",
          "height": 34
        }
      },
      "source": [
        "df.shape"
      ],
      "execution_count": 0,
      "outputs": [
        {
          "output_type": "execute_result",
          "data": {
            "text/plain": [
              "(14776615, 14)"
            ]
          },
          "metadata": {
            "tags": []
          },
          "execution_count": 27
        }
      ]
    },
    {
      "cell_type": "markdown",
      "metadata": {
        "id": "tF555_I-y7Rz",
        "colab_type": "text"
      },
      "source": [
        "Saber cuantos pasajeros recojio cada taxi"
      ]
    },
    {
      "cell_type": "code",
      "metadata": {
        "id": "D60VEdMayUIi",
        "colab_type": "code",
        "colab": {}
      },
      "source": [
        "df['passenger_count'].value_counts()"
      ],
      "execution_count": 0,
      "outputs": []
    },
    {
      "cell_type": "markdown",
      "metadata": {
        "id": "5Dty-EamzPzj",
        "colab_type": "text"
      },
      "source": [
        "Eliminar una columna del data frame"
      ]
    },
    {
      "cell_type": "markdown",
      "metadata": {
        "id": "OnTBxIKL0QnE",
        "colab_type": "text"
      },
      "source": [
        "Segunda parte de borrar valores nulos"
      ]
    },
    {
      "cell_type": "code",
      "metadata": {
        "id": "vaouKnM-zAVR",
        "colab_type": "code",
        "colab": {}
      },
      "source": [
        "del df['store_and_fwd_flag']"
      ],
      "execution_count": 0,
      "outputs": []
    },
    {
      "cell_type": "code",
      "metadata": {
        "id": "7aZb3cAEy3hJ",
        "colab_type": "code",
        "colab": {}
      },
      "source": [
        "df.columns"
      ],
      "execution_count": 0,
      "outputs": []
    },
    {
      "cell_type": "code",
      "metadata": {
        "id": "nBVNTXc7vxOy",
        "colab_type": "code",
        "colab": {}
      },
      "source": [
        ""
      ],
      "execution_count": 0,
      "outputs": []
    },
    {
      "cell_type": "markdown",
      "metadata": {
        "id": "m_1ta9sd6cbZ",
        "colab_type": "text"
      },
      "source": [
        "##Punto 5\n",
        "###Indicar el tiempo en segundos, que tarda la libreria pandas en leer un archivo a un DataFrame = 45.03836941719055 s\n",
        "###Cual es la huella de memoria del proceso usado para generar el objeto DataFrame = 5088.30859375 mb\n",
        "###Cuanta memoria del sistema se usa para crear el objeto anterior = 4944.38671875\n",
        "###Indicar el tiempo que tarda pandas en obtener el promedio de la distancia de viaje (trip_distance) = 0.0386042594909668 s"
      ]
    },
    {
      "cell_type": "markdown",
      "metadata": {
        "id": "ZYqwXC_lzd3H",
        "colab_type": "text"
      },
      "source": [
        "Funcion huella_de_memoria"
      ]
    },
    {
      "cell_type": "code",
      "metadata": {
        "id": "To6SFWeZus2q",
        "colab_type": "code",
        "colab": {}
      },
      "source": [
        "def huella_de_memoria():\n",
        "  '''Regresa la momoria usada por el proceso de python'''\n",
        "  mem = psutil.Process(os.getpid()).memory_info().rss\n",
        "  return (mem / 1024**2)"
      ],
      "execution_count": 0,
      "outputs": []
    },
    {
      "cell_type": "code",
      "metadata": {
        "id": "S9R3qwV78I5D",
        "colab_type": "code",
        "colab": {}
      },
      "source": [
        "huella_inicio = huella_de_memoria()"
      ],
      "execution_count": 0,
      "outputs": []
    },
    {
      "cell_type": "code",
      "metadata": {
        "id": "v42Sb4yEDdju",
        "colab_type": "code",
        "outputId": "730e8368-9311-4391-eb79-6e4047431e23",
        "colab": {
          "base_uri": "https://localhost:8080/",
          "height": 34
        }
      },
      "source": [
        "huella_inicio"
      ],
      "execution_count": 0,
      "outputs": [
        {
          "output_type": "execute_result",
          "data": {
            "text/plain": [
              "143.921875"
            ]
          },
          "metadata": {
            "tags": []
          },
          "execution_count": 16
        }
      ]
    },
    {
      "cell_type": "markdown",
      "metadata": {
        "id": "wDLIQCEjz0Xt",
        "colab_type": "text"
      },
      "source": [
        "Tiempo que tarda pandas en construir un data frame"
      ]
    },
    {
      "cell_type": "code",
      "metadata": {
        "id": "aBmef0QCvIBT",
        "colab_type": "code",
        "outputId": "287bc401-e944-4e67-b551-8cae76284ea5",
        "colab": {
          "base_uri": "https://localhost:8080/",
          "height": 34
        }
      },
      "source": [
        "t_start = time.time()\n",
        "df = pd.read_csv('trip_data_1.csv')\n",
        "t_end = time.time()\n",
        "print('pd.read_csv(): {} s'.format(t_end-t_start)) # time [s]"
      ],
      "execution_count": 0,
      "outputs": [
        {
          "output_type": "stream",
          "text": [
            "pd.read_csv(): 58.605767250061035 s\n"
          ],
          "name": "stdout"
        }
      ]
    },
    {
      "cell_type": "code",
      "metadata": {
        "id": "avNl0Lhc7L8m",
        "colab_type": "code",
        "colab": {}
      },
      "source": [
        "huella_fin = huella_de_memoria()"
      ],
      "execution_count": 0,
      "outputs": []
    },
    {
      "cell_type": "code",
      "metadata": {
        "id": "0lFkU03UE8al",
        "colab_type": "code",
        "outputId": "046bb458-1a8e-4721-bd4a-1c054c2039fe",
        "colab": {
          "base_uri": "https://localhost:8080/",
          "height": 34
        }
      },
      "source": [
        "huella_fin"
      ],
      "execution_count": 0,
      "outputs": [
        {
          "output_type": "execute_result",
          "data": {
            "text/plain": [
              "5088.30859375"
            ]
          },
          "metadata": {
            "tags": []
          },
          "execution_count": 21
        }
      ]
    },
    {
      "cell_type": "code",
      "metadata": {
        "id": "oJV60uIf8TKI",
        "colab_type": "code",
        "outputId": "954a8291-6011-4e49-f1bc-9ed33935b71f",
        "colab": {
          "base_uri": "https://localhost:8080/",
          "height": 34
        }
      },
      "source": [
        "print(huella_fin - huella_inicio)"
      ],
      "execution_count": 0,
      "outputs": [
        {
          "output_type": "stream",
          "text": [
            "4944.38671875\n"
          ],
          "name": "stdout"
        }
      ]
    },
    {
      "cell_type": "code",
      "metadata": {
        "id": "n_du_U3ZzNTW",
        "colab_type": "code",
        "colab": {}
      },
      "source": [
        "diferente_cero = (df['trip_distance'] != 0.0)"
      ],
      "execution_count": 0,
      "outputs": []
    },
    {
      "cell_type": "markdown",
      "metadata": {
        "id": "nKSTWwpo3THv",
        "colab_type": "text"
      },
      "source": [
        "Obtener el tiempo que tarda pandas en obtener el promedio de trip_distance"
      ]
    },
    {
      "cell_type": "code",
      "metadata": {
        "id": "z3n_YG8E1XHD",
        "colab_type": "code",
        "outputId": "921decab-bf64-468f-dbb2-023ace86719e",
        "colab": {
          "base_uri": "https://localhost:8080/",
          "height": 34
        }
      },
      "source": [
        "#%%time\n",
        "inicio = time.time()\n",
        "diferente_cero.mean()\n",
        "fin = time.time()\n",
        "print('Tiempo que tarda pandas en optener el promedio de la distancia de viaje: {} s'.format(fin-inicio))"
      ],
      "execution_count": 0,
      "outputs": [
        {
          "output_type": "stream",
          "text": [
            "Tiempo que tarda pandas en optener el promedio de la distancia de viaje: 0.0386042594909668 s\n"
          ],
          "name": "stdout"
        }
      ]
    },
    {
      "cell_type": "code",
      "metadata": {
        "id": "eM6BKZn91ZGA",
        "colab_type": "code",
        "colab": {}
      },
      "source": [
        ""
      ],
      "execution_count": 0,
      "outputs": []
    }
  ]
}